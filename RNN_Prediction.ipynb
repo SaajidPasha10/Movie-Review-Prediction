{
  "nbformat": 4,
  "nbformat_minor": 0,
  "metadata": {
    "colab": {
      "provenance": []
    },
    "kernelspec": {
      "name": "python3",
      "display_name": "Python 3"
    },
    "language_info": {
      "name": "python"
    }
  },
  "cells": [
    {
      "cell_type": "code",
      "execution_count": 3,
      "metadata": {
        "colab": {
          "base_uri": "https://localhost:8080/"
        },
        "id": "vd2Hv356FPVl",
        "outputId": "c7fa6c6e-f244-4ed7-e9dd-d28153138824"
      },
      "outputs": [
        {
          "output_type": "stream",
          "name": "stdout",
          "text": [
            "Downloading data from https://storage.googleapis.com/tensorflow/tf-keras-datasets/imdb_word_index.json\n",
            "\u001b[1m1641221/1641221\u001b[0m \u001b[32m━━━━━━━━━━━━━━━━━━━━\u001b[0m\u001b[37m\u001b[0m \u001b[1m0s\u001b[0m 0us/step\n"
          ]
        }
      ],
      "source": [
        "from tensorflow.keras.datasets import imdb\n",
        "from tensorflow.keras.utils import pad_sequences\n",
        "word_to_index = imdb.get_word_index()\n",
        "index_to_word = {v:k for k,v in word_to_index.items()}\n",
        "def decode_review(encoded_review):\n",
        "  decoded_review = [index_to_word.get(i-3,\"?\") for i in encoded_review]\n",
        "  decoded_review = \" \".join(decoded_review)\n",
        "  return decoded_review\n",
        "def preprocess_text(text):\n",
        "  words = text.lower()\n",
        "  encoded_review = [word_to_index.get(word,2) + 3 for word in words]\n",
        "  padded_review = pad_sequences([encoded_review],maxlen=500)\n",
        "  return padded_review"
      ]
    },
    {
      "cell_type": "code",
      "source": [
        "#load the model\n",
        "from tensorflow.keras.models import load_model\n",
        "model = load_model(\"RNN_model.h5\")"
      ],
      "metadata": {
        "colab": {
          "base_uri": "https://localhost:8080/"
        },
        "id": "R1xPIvoSGy4w",
        "outputId": "4afc6854-290b-4906-8c46-15b5408955c0"
      },
      "execution_count": 8,
      "outputs": [
        {
          "output_type": "stream",
          "name": "stderr",
          "text": [
            "WARNING:absl:Compiled the loaded model, but the compiled metrics have yet to be built. `model.compile_metrics` will be empty until you train or evaluate the model.\n"
          ]
        }
      ]
    },
    {
      "cell_type": "code",
      "source": [
        "def predict(text):\n",
        "  preprocessed_text = preprocess_text(text)\n",
        "  prob = model.predict(preprocessed_text)\n",
        "  sentiment =\"Positive\" if  prob[0][0] > 0.5  else \"Negative\"\n",
        "  return sentiment, prob[0][0]\n",
        "sentiment,prob = predict(\"The movie was disaster\")\n",
        "print(f\"Sentiment : {sentiment}, Score: {prob*100}\")"
      ],
      "metadata": {
        "colab": {
          "base_uri": "https://localhost:8080/"
        },
        "id": "5wyntJO2HkYE",
        "outputId": "53bda0c6-454b-400e-cb0f-391b6812b852"
      },
      "execution_count": 18,
      "outputs": [
        {
          "output_type": "stream",
          "name": "stdout",
          "text": [
            "\u001b[1m1/1\u001b[0m \u001b[32m━━━━━━━━━━━━━━━━━━━━\u001b[0m\u001b[37m\u001b[0m \u001b[1m0s\u001b[0m 49ms/step\n",
            "Sentiment : Negative, Score: 4.171952605247498\n"
          ]
        }
      ]
    }
  ]
}