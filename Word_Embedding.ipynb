{
  "nbformat": 4,
  "nbformat_minor": 0,
  "metadata": {
    "colab": {
      "provenance": []
    },
    "kernelspec": {
      "name": "python3",
      "display_name": "Python 3"
    },
    "language_info": {
      "name": "python"
    }
  },
  "cells": [
    {
      "cell_type": "code",
      "execution_count": null,
      "metadata": {
        "id": "YP_7PvRonJFZ"
      },
      "outputs": [],
      "source": [
        "### sentences\n",
        "sent=[  'the glass of milk',\n",
        "     'the glass of juice',\n",
        "     'the cup of tea',\n",
        "    'I am a good boy',\n",
        "     'I am a good developer',\n",
        "     'understand the meaning of words',\n",
        "     'your videos are good',]"
      ]
    },
    {
      "cell_type": "markdown",
      "source": [
        "```\n",
        "Word Embeddings are used to convert words into N-dim vectors\n",
        "Step1 : Define a vocab size\n",
        "Step2 : Take all words of a sentence and perform one hot encoding\n",
        "Step3 : Each word will be assigned a number\n",
        "Step4 : Now define a max sentence length\n",
        "Step 5: To match the max sentence length pad sentences with zeros wherever required\n",
        "Step 6 : Now pass these vectors to Embedding layer with a fixed dimension\n",
        "```\n",
        "\n",
        "\n",
        "\n"
      ],
      "metadata": {
        "id": "q7JzW_Kypilc"
      }
    },
    {
      "cell_type": "code",
      "source": [
        "vocab_size = 10000\n",
        "max_sent_len = 8\n",
        "n_dim = 10\n",
        "from tensorflow.keras.preprocessing.text import one_hot"
      ],
      "metadata": {
        "id": "ZsIn6lR2t5GJ"
      },
      "execution_count": null,
      "outputs": []
    },
    {
      "cell_type": "code",
      "source": [
        "one_hot_repr = [one_hot(words,vocab_size) for words in sent]\n",
        "one_hot_repr"
      ],
      "metadata": {
        "colab": {
          "base_uri": "https://localhost:8080/"
        },
        "id": "0OvVkHkJuZmu",
        "outputId": "905f8218-9dcd-48a9-88f9-1686fa6aed9f"
      },
      "execution_count": null,
      "outputs": [
        {
          "output_type": "execute_result",
          "data": {
            "text/plain": [
              "[[9592, 8752, 6638, 7144],\n",
              " [9592, 8752, 6638, 6376],\n",
              " [9592, 3704, 6638, 3996],\n",
              " [1077, 4001, 5503, 7995, 8867],\n",
              " [1077, 4001, 5503, 7995, 7150],\n",
              " [7890, 9592, 9001, 6638, 4361],\n",
              " [9141, 6712, 1578, 7995]]"
            ]
          },
          "metadata": {},
          "execution_count": 49
        }
      ]
    },
    {
      "cell_type": "code",
      "source": [
        "from tensorflow.keras.utils import pad_sequences\n",
        "# Each sentence is padded with zero to match the sent max len for feeding into NN\n",
        "padded_sequences = pad_sequences(sequences=one_hot_repr,maxlen = max_sent_len,padding=\"pre\")\n",
        "padded_sequences"
      ],
      "metadata": {
        "colab": {
          "base_uri": "https://localhost:8080/"
        },
        "id": "aLzKqHdWuZ4q",
        "outputId": "49d6bf16-eda4-44a9-dff0-d99512f4ad3d"
      },
      "execution_count": null,
      "outputs": [
        {
          "output_type": "execute_result",
          "data": {
            "text/plain": [
              "array([[   0,    0,    0,    0, 9592, 8752, 6638, 7144],\n",
              "       [   0,    0,    0,    0, 9592, 8752, 6638, 6376],\n",
              "       [   0,    0,    0,    0, 9592, 3704, 6638, 3996],\n",
              "       [   0,    0,    0, 1077, 4001, 5503, 7995, 8867],\n",
              "       [   0,    0,    0, 1077, 4001, 5503, 7995, 7150],\n",
              "       [   0,    0,    0, 7890, 9592, 9001, 6638, 4361],\n",
              "       [   0,    0,    0,    0, 9141, 6712, 1578, 7995]], dtype=int32)"
            ]
          },
          "metadata": {},
          "execution_count": 50
        }
      ]
    },
    {
      "cell_type": "code",
      "source": [
        "from tensorflow.keras.models import Sequential\n",
        "from tensorflow.keras.layers import Embedding\n",
        "model = Sequential()\n",
        "model.add(Embedding(vocab_size,n_dim,input_length=max_sent_len))\n",
        "model.build(input_shape=(None, max_sent_len))\n",
        "model.compile('adam','mse')"
      ],
      "metadata": {
        "colab": {
          "base_uri": "https://localhost:8080/"
        },
        "id": "OZAQMpqZuZ_p",
        "outputId": "846fff53-7377-4950-fd13-5be7d04caf4c"
      },
      "execution_count": null,
      "outputs": [
        {
          "output_type": "stream",
          "name": "stderr",
          "text": [
            "/usr/local/lib/python3.10/dist-packages/keras/src/layers/core/embedding.py:90: UserWarning: Argument `input_length` is deprecated. Just remove it.\n",
            "  warnings.warn(\n"
          ]
        }
      ]
    },
    {
      "cell_type": "code",
      "source": [
        "model.summary()"
      ],
      "metadata": {
        "colab": {
          "base_uri": "https://localhost:8080/",
          "height": 166
        },
        "id": "xLSGcBDquaCP",
        "outputId": "c7bd5297-87e5-4578-bfdd-30434ef22a89"
      },
      "execution_count": null,
      "outputs": [
        {
          "output_type": "display_data",
          "data": {
            "text/plain": [
              "\u001b[1mModel: \"sequential_13\"\u001b[0m\n"
            ],
            "text/html": [
              "<pre style=\"white-space:pre;overflow-x:auto;line-height:normal;font-family:Menlo,'DejaVu Sans Mono',consolas,'Courier New',monospace\"><span style=\"font-weight: bold\">Model: \"sequential_13\"</span>\n",
              "</pre>\n"
            ]
          },
          "metadata": {}
        },
        {
          "output_type": "display_data",
          "data": {
            "text/plain": [
              "┏━━━━━━━━━━━━━━━━━━━━━━━━━━━━━━━━━━━━━━┳━━━━━━━━━━━━━━━━━━━━━━━━━━━━━┳━━━━━━━━━━━━━━━━━┓\n",
              "┃\u001b[1m \u001b[0m\u001b[1mLayer (type)                        \u001b[0m\u001b[1m \u001b[0m┃\u001b[1m \u001b[0m\u001b[1mOutput Shape               \u001b[0m\u001b[1m \u001b[0m┃\u001b[1m \u001b[0m\u001b[1m        Param #\u001b[0m\u001b[1m \u001b[0m┃\n",
              "┡━━━━━━━━━━━━━━━━━━━━━━━━━━━━━━━━━━━━━━╇━━━━━━━━━━━━━━━━━━━━━━━━━━━━━╇━━━━━━━━━━━━━━━━━┩\n",
              "│ embedding_9 (\u001b[38;5;33mEmbedding\u001b[0m)              │ (\u001b[38;5;45mNone\u001b[0m, \u001b[38;5;34m8\u001b[0m, \u001b[38;5;34m10\u001b[0m)               │         \u001b[38;5;34m100,000\u001b[0m │\n",
              "└──────────────────────────────────────┴─────────────────────────────┴─────────────────┘\n"
            ],
            "text/html": [
              "<pre style=\"white-space:pre;overflow-x:auto;line-height:normal;font-family:Menlo,'DejaVu Sans Mono',consolas,'Courier New',monospace\">┏━━━━━━━━━━━━━━━━━━━━━━━━━━━━━━━━━━━━━━┳━━━━━━━━━━━━━━━━━━━━━━━━━━━━━┳━━━━━━━━━━━━━━━━━┓\n",
              "┃<span style=\"font-weight: bold\"> Layer (type)                         </span>┃<span style=\"font-weight: bold\"> Output Shape                </span>┃<span style=\"font-weight: bold\">         Param # </span>┃\n",
              "┡━━━━━━━━━━━━━━━━━━━━━━━━━━━━━━━━━━━━━━╇━━━━━━━━━━━━━━━━━━━━━━━━━━━━━╇━━━━━━━━━━━━━━━━━┩\n",
              "│ embedding_9 (<span style=\"color: #0087ff; text-decoration-color: #0087ff\">Embedding</span>)              │ (<span style=\"color: #00d7ff; text-decoration-color: #00d7ff\">None</span>, <span style=\"color: #00af00; text-decoration-color: #00af00\">8</span>, <span style=\"color: #00af00; text-decoration-color: #00af00\">10</span>)               │         <span style=\"color: #00af00; text-decoration-color: #00af00\">100,000</span> │\n",
              "└──────────────────────────────────────┴─────────────────────────────┴─────────────────┘\n",
              "</pre>\n"
            ]
          },
          "metadata": {}
        },
        {
          "output_type": "display_data",
          "data": {
            "text/plain": [
              "\u001b[1m Total params: \u001b[0m\u001b[38;5;34m100,000\u001b[0m (390.62 KB)\n"
            ],
            "text/html": [
              "<pre style=\"white-space:pre;overflow-x:auto;line-height:normal;font-family:Menlo,'DejaVu Sans Mono',consolas,'Courier New',monospace\"><span style=\"font-weight: bold\"> Total params: </span><span style=\"color: #00af00; text-decoration-color: #00af00\">100,000</span> (390.62 KB)\n",
              "</pre>\n"
            ]
          },
          "metadata": {}
        },
        {
          "output_type": "display_data",
          "data": {
            "text/plain": [
              "\u001b[1m Trainable params: \u001b[0m\u001b[38;5;34m100,000\u001b[0m (390.62 KB)\n"
            ],
            "text/html": [
              "<pre style=\"white-space:pre;overflow-x:auto;line-height:normal;font-family:Menlo,'DejaVu Sans Mono',consolas,'Courier New',monospace\"><span style=\"font-weight: bold\"> Trainable params: </span><span style=\"color: #00af00; text-decoration-color: #00af00\">100,000</span> (390.62 KB)\n",
              "</pre>\n"
            ]
          },
          "metadata": {}
        },
        {
          "output_type": "display_data",
          "data": {
            "text/plain": [
              "\u001b[1m Non-trainable params: \u001b[0m\u001b[38;5;34m0\u001b[0m (0.00 B)\n"
            ],
            "text/html": [
              "<pre style=\"white-space:pre;overflow-x:auto;line-height:normal;font-family:Menlo,'DejaVu Sans Mono',consolas,'Courier New',monospace\"><span style=\"font-weight: bold\"> Non-trainable params: </span><span style=\"color: #00af00; text-decoration-color: #00af00\">0</span> (0.00 B)\n",
              "</pre>\n"
            ]
          },
          "metadata": {}
        }
      ]
    },
    {
      "cell_type": "code",
      "source": [
        "e = padded_sequences[0]"
      ],
      "metadata": {
        "id": "j4_t_eFmuaFq"
      },
      "execution_count": null,
      "outputs": []
    },
    {
      "cell_type": "code",
      "source": [
        "res = model.predict(padded_sequences)\n",
        "# each sentence is converted to 8 dim vector\n",
        "# where each word is converted to 10 dim vector\n",
        "print(len(res[0]))\n",
        "print(len(res[0][0]))\n",
        "res[0]\n"
      ],
      "metadata": {
        "colab": {
          "base_uri": "https://localhost:8080/"
        },
        "id": "0mSgOt520prT",
        "outputId": "2baeb854-c07c-4821-ae42-6b50dab74151"
      },
      "execution_count": null,
      "outputs": [
        {
          "output_type": "stream",
          "name": "stdout",
          "text": [
            "\u001b[1m1/1\u001b[0m \u001b[32m━━━━━━━━━━━━━━━━━━━━\u001b[0m\u001b[37m\u001b[0m \u001b[1m0s\u001b[0m 21ms/step\n",
            "8\n",
            "10\n"
          ]
        },
        {
          "output_type": "execute_result",
          "data": {
            "text/plain": [
              "array([[ 0.00887232,  0.03517231, -0.02738603,  0.02917332, -0.04771116,\n",
              "        -0.00423903,  0.02123411, -0.01065364,  0.01747606,  0.02148967],\n",
              "       [ 0.00887232,  0.03517231, -0.02738603,  0.02917332, -0.04771116,\n",
              "        -0.00423903,  0.02123411, -0.01065364,  0.01747606,  0.02148967],\n",
              "       [ 0.00887232,  0.03517231, -0.02738603,  0.02917332, -0.04771116,\n",
              "        -0.00423903,  0.02123411, -0.01065364,  0.01747606,  0.02148967],\n",
              "       [ 0.00887232,  0.03517231, -0.02738603,  0.02917332, -0.04771116,\n",
              "        -0.00423903,  0.02123411, -0.01065364,  0.01747606,  0.02148967],\n",
              "       [ 0.02135359,  0.03076458, -0.01453223, -0.02923561, -0.01790679,\n",
              "         0.00851474,  0.04964384, -0.0173534 ,  0.01171373, -0.01719705],\n",
              "       [ 0.0026192 , -0.01928015,  0.03405465, -0.03724167,  0.01454277,\n",
              "         0.04757512, -0.0156163 , -0.03758629,  0.02395833,  0.00735486],\n",
              "       [ 0.01830672,  0.02660508,  0.01360612, -0.01760194,  0.02825359,\n",
              "        -0.03285287, -0.00325083, -0.03263881, -0.01268116, -0.03009126],\n",
              "       [ 0.02726631,  0.03375601, -0.03601493,  0.02217299,  0.00245361,\n",
              "         0.00942815,  0.03677409, -0.02101159, -0.00849202,  0.02264347]],\n",
              "      dtype=float32)"
            ]
          },
          "metadata": {},
          "execution_count": 63
        }
      ]
    },
    {
      "cell_type": "code",
      "source": [
        "print(len(res))"
      ],
      "metadata": {
        "colab": {
          "base_uri": "https://localhost:8080/"
        },
        "id": "yT1zVBMo1PIi",
        "outputId": "9e8505fc-5a67-4e06-c063-a7ab03fceaa8"
      },
      "execution_count": null,
      "outputs": [
        {
          "output_type": "stream",
          "name": "stdout",
          "text": [
            "7\n"
          ]
        }
      ]
    }
  ]
}